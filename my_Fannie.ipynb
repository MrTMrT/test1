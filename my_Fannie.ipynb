{
 "cells": [
  {
   "cell_type": "code",
   "execution_count": 1,
   "metadata": {},
   "outputs": [],
   "source": [
    "from sklearn.ensemble import RandomForestClassifier, RandomForestRegressor\n",
    "from sklearn.model_selection import train_test_split\n",
    "from sklearn.metrics import classification_report\n",
    "from sklearn.metrics import confusion_matrix\n",
    "from sklearn.metrics import roc_auc_score\n",
    "from sklearn.metrics import roc_curve\n",
    "import seaborn as sns\n",
    "import pandas as pd\n",
    "import numpy as np\n",
    "\n",
    "import matplotlib.pyplot as mp\n",
    "%matplotlib inline\n",
    "\n",
    "col_acq = ['LoanID','Channel','SellerName','OrInterestRate','OrUnpaidPrinc','OrLoanTerm',\n",
    "        'OrDate','FirstPayment','OrLTV','OrCLTV','NumBorrow','DTIRat','CreditScore',\n",
    "        'FTHomeBuyer','LoanPurpose','PropertyType','NumUnits','OccStatus','PropertyState',\n",
    "        'Zip','MortInsPerc','ProductType','CoCreditScore','MortInsType','RelMortInd'];\n",
    "\n",
    "col_per = ['LoanID','MonthRep','Servicer','CurrInterestRate','CAUPB','LoanAge','MonthsToMaturity',\n",
    "          'AdMonthsToMaturity','MaturityDate','MSA','CLDS','ModFlag','ZeroBalCode','ZeroBalDate',\n",
    "          'LastInstallDate','ForeclosureDate','DispositionDate','PPRC','AssetRecCost','MHRC',\n",
    "          'ATFHP','NetSaleProceeds','CreditEnhProceeds','RPMWP','OFP','NIBUPB','PFUPB','RMWPF',\n",
    "          'FPWA','ServicingIndicator'];\n",
    "\n",
    "from sklearn import preprocessing"
   ]
  },
  {
   "cell_type": "markdown",
   "metadata": {},
   "source": [
    "# Choose datasets to be analyzed"
   ]
  },
  {
   "cell_type": "code",
   "execution_count": 2,
   "metadata": {},
   "outputs": [],
   "source": [
    "x= ['2001','2002',,'2003','2004','2005','2006','2007','2008','2009','2010','2011','2012','2013','2014','2015','2016','2017','2018']\n",
    "y= ['Q1', 'Q2', 'Q3', 'Q4']"
   ]
  },
  {
   "cell_type": "code",
   "execution_count": 3,
   "metadata": {},
   "outputs": [
    {
     "name": "stdout",
     "output_type": "stream",
     "text": [
      "['2001Q1', '2001Q2', '2001Q3', '2001Q4']\n"
     ]
    }
   ],
   "source": [
    "z=[]\n",
    "for i in x:\n",
    "    for j in y:\n",
    "        temp = i+j\n",
    "        z.append(temp)\n",
    "\n",
    "print(z)"
   ]
  },
  {
   "cell_type": "code",
   "execution_count": 4,
   "metadata": {},
   "outputs": [
    {
     "data": {
      "text/plain": [
       "(3005149, 25)"
      ]
     },
     "execution_count": 4,
     "metadata": {},
     "output_type": "execute_result"
    }
   ],
   "source": [
    "df_acq=pd.DataFrame()\n",
    "\n",
    "for year_quarter in z:\n",
    "    temp = pd.read_csv(f'/Users/tp/Desktop/FannieMae/Acquisition_All/Acquisition_{year_quarter}.txt', sep='|', names=col_acq, index_col= False)\n",
    "    df_acq = pd.concat([df_acq, temp], axis=0)\n",
    "    \n",
    "df_acq.shape"
   ]
  },
  {
   "cell_type": "code",
   "execution_count": 5,
   "metadata": {},
   "outputs": [],
   "source": [
    "class_ification= pd.read_csv('/Users/tp/Desktop/FannieMae/classification.csv', sep=';', names=['PropertyState','Avg_Foreclosure_Time', 'Recourse', 'Judicial' ])\n",
    "\n",
    "df_acq = pd.merge(df_acq, class_ification, how='inner', on='PropertyState')"
   ]
  },
  {
   "cell_type": "code",
   "execution_count": 6,
   "metadata": {},
   "outputs": [],
   "source": [
    "df_acq= df_acq.drop(['SellerName','OrDate','FirstPayment','PropertyState', 'Zip', 'CoCreditScore', ], axis=1)"
   ]
  },
  {
   "cell_type": "code",
   "execution_count": 7,
   "metadata": {},
   "outputs": [
    {
     "data": {
      "text/plain": [
       "(113278580, 2)"
      ]
     },
     "execution_count": 7,
     "metadata": {},
     "output_type": "execute_result"
    }
   ],
   "source": [
    "\n",
    "df_per=pd.DataFrame()\n",
    "\n",
    "for year_quarter in z:\n",
    "    temp = pd.read_csv(f'/Users/tp/Desktop/FannieMae/Performance_All/Performance_{year_quarter}.txt', sep='|', names= col_per, index_col= False, low_memory= False)\n",
    "    df_per = pd.concat([df_per, temp], axis=0)\n",
    "\n",
    "df_per.shape\n"
   ]
  },
  {
   "cell_type": "code",
   "execution_count": 8,
   "metadata": {},
   "outputs": [
    {
     "data": {
      "text/html": [
       "<div>\n",
       "<style scoped>\n",
       "    .dataframe tbody tr th:only-of-type {\n",
       "        vertical-align: middle;\n",
       "    }\n",
       "\n",
       "    .dataframe tbody tr th {\n",
       "        vertical-align: top;\n",
       "    }\n",
       "\n",
       "    .dataframe thead th {\n",
       "        text-align: right;\n",
       "    }\n",
       "</style>\n",
       "<table border=\"1\" class=\"dataframe\">\n",
       "  <thead>\n",
       "    <tr style=\"text-align: right;\">\n",
       "      <th></th>\n",
       "      <th>LoanID</th>\n",
       "      <th>ForeclosureDate</th>\n",
       "    </tr>\n",
       "  </thead>\n",
       "  <tbody>\n",
       "    <tr>\n",
       "      <th>0</th>\n",
       "      <td>100000929081</td>\n",
       "      <td>NaN</td>\n",
       "    </tr>\n",
       "    <tr>\n",
       "      <th>1</th>\n",
       "      <td>100000929081</td>\n",
       "      <td>NaN</td>\n",
       "    </tr>\n",
       "    <tr>\n",
       "      <th>2</th>\n",
       "      <td>100000929081</td>\n",
       "      <td>NaN</td>\n",
       "    </tr>\n",
       "    <tr>\n",
       "      <th>3</th>\n",
       "      <td>100000929081</td>\n",
       "      <td>NaN</td>\n",
       "    </tr>\n",
       "    <tr>\n",
       "      <th>4</th>\n",
       "      <td>100000929081</td>\n",
       "      <td>NaN</td>\n",
       "    </tr>\n",
       "    <tr>\n",
       "      <th>...</th>\n",
       "      <td>...</td>\n",
       "      <td>...</td>\n",
       "    </tr>\n",
       "    <tr>\n",
       "      <th>37636358</th>\n",
       "      <td>999999835148</td>\n",
       "      <td>NaN</td>\n",
       "    </tr>\n",
       "    <tr>\n",
       "      <th>37636359</th>\n",
       "      <td>999999835148</td>\n",
       "      <td>NaN</td>\n",
       "    </tr>\n",
       "    <tr>\n",
       "      <th>37636360</th>\n",
       "      <td>999999835148</td>\n",
       "      <td>NaN</td>\n",
       "    </tr>\n",
       "    <tr>\n",
       "      <th>37636361</th>\n",
       "      <td>999999835148</td>\n",
       "      <td>NaN</td>\n",
       "    </tr>\n",
       "    <tr>\n",
       "      <th>37636362</th>\n",
       "      <td>999999835148</td>\n",
       "      <td>NaN</td>\n",
       "    </tr>\n",
       "  </tbody>\n",
       "</table>\n",
       "<p>37636363 rows × 2 columns</p>\n",
       "</div>"
      ],
      "text/plain": [
       "                LoanID ForeclosureDate\n",
       "0         100000929081             NaN\n",
       "1         100000929081             NaN\n",
       "2         100000929081             NaN\n",
       "3         100000929081             NaN\n",
       "4         100000929081             NaN\n",
       "...                ...             ...\n",
       "37636358  999999835148             NaN\n",
       "37636359  999999835148             NaN\n",
       "37636360  999999835148             NaN\n",
       "37636361  999999835148             NaN\n",
       "37636362  999999835148             NaN\n",
       "\n",
       "[37636363 rows x 2 columns]"
      ]
     },
     "execution_count": 8,
     "metadata": {},
     "output_type": "execute_result"
    }
   ],
   "source": [
    "temp"
   ]
  },
  {
   "cell_type": "code",
   "execution_count": null,
   "metadata": {},
   "outputs": [],
   "source": []
  },
  {
   "cell_type": "code",
   "execution_count": 9,
   "metadata": {},
   "outputs": [],
   "source": [
    "df_per.drop_duplicates(subset='LoanID', keep='last', inplace=True)\n",
    "df = pd.merge(df_acq, df_per, on='LoanID', how='inner')\n",
    "\n",
    "df.rename(index=str, columns={\"ForeclosureDate\": 'Default'}, inplace=True)"
   ]
  },
  {
   "cell_type": "code",
   "execution_count": 10,
   "metadata": {},
   "outputs": [],
   "source": [
    "df['Default'].fillna(0, inplace=True)\n",
    "df.loc[df['Default'] != 0, 'Default'] = 1\n",
    "\n",
    "df['Default'] = df['Default'].astype(int)"
   ]
  },
  {
   "cell_type": "code",
   "execution_count": 11,
   "metadata": {},
   "outputs": [],
   "source": [
    "#df['OrDateMonth'] = df['OrDate'].apply(lambda x: x.split('/')[0].strip()).astype(int)\n",
    "#df['OrDateYear'] = df['OrDate'].apply(lambda x: x.split('/')[1].strip()).astype(int)\n",
    "\n",
    "#df['FirstMonth'] = df['FirstPayment'].apply(lambda x: x.split('/')[0].strip()).astype(int)\n",
    "#df['FirstYear'] = df['FirstPayment'].apply(lambda x: x.split('/')[1].strip()).astype(int)\n",
    "\n",
    "#df.drop(['OrDate','FirstPayment'], axis=1, inplace=True)"
   ]
  },
  {
   "cell_type": "code",
   "execution_count": 12,
   "metadata": {},
   "outputs": [],
   "source": [
    "\n",
    "df.drop(['MortInsPerc','MortInsType','ProductType','LoanID'], axis=1, inplace=True)"
   ]
  },
  {
   "cell_type": "code",
   "execution_count": 13,
   "metadata": {},
   "outputs": [
    {
     "name": "stdout",
     "output_type": "stream",
     "text": [
      "<class 'pandas.core.frame.DataFrame'>\n",
      "Index: 2992325 entries, 0 to 2992324\n",
      "Data columns (total 19 columns):\n",
      " #   Column                Dtype  \n",
      "---  ------                -----  \n",
      " 0   Channel               object \n",
      " 1   OrInterestRate        float64\n",
      " 2   OrUnpaidPrinc         int64  \n",
      " 3   OrLoanTerm            int64  \n",
      " 4   OrLTV                 float64\n",
      " 5   OrCLTV                float64\n",
      " 6   NumBorrow             float64\n",
      " 7   DTIRat                float64\n",
      " 8   CreditScore           float64\n",
      " 9   FTHomeBuyer           object \n",
      " 10  LoanPurpose           object \n",
      " 11  PropertyType          object \n",
      " 12  NumUnits              int64  \n",
      " 13  OccStatus             object \n",
      " 14  RelMortInd            object \n",
      " 15  Avg_Foreclosure_Time  int64  \n",
      " 16  Recourse              int64  \n",
      " 17  Judicial              int64  \n",
      " 18  Default               int32  \n",
      "dtypes: float64(6), int32(1), int64(6), object(6)\n",
      "memory usage: 445.2+ MB\n"
     ]
    }
   ],
   "source": [
    "df.info()"
   ]
  },
  {
   "cell_type": "code",
   "execution_count": 14,
   "metadata": {},
   "outputs": [
    {
     "data": {
      "text/html": [
       "<div>\n",
       "<style scoped>\n",
       "    .dataframe tbody tr th:only-of-type {\n",
       "        vertical-align: middle;\n",
       "    }\n",
       "\n",
       "    .dataframe tbody tr th {\n",
       "        vertical-align: top;\n",
       "    }\n",
       "\n",
       "    .dataframe thead th {\n",
       "        text-align: right;\n",
       "    }\n",
       "</style>\n",
       "<table border=\"1\" class=\"dataframe\">\n",
       "  <thead>\n",
       "    <tr style=\"text-align: right;\">\n",
       "      <th>Default</th>\n",
       "      <th>0</th>\n",
       "      <th>1</th>\n",
       "    </tr>\n",
       "  </thead>\n",
       "  <tbody>\n",
       "    <tr>\n",
       "      <th>OrInterestRate</th>\n",
       "      <td>6.980133</td>\n",
       "      <td>7.322773</td>\n",
       "    </tr>\n",
       "    <tr>\n",
       "      <th>OrUnpaidPrinc</th>\n",
       "      <td>139890.177905</td>\n",
       "      <td>99104.659330</td>\n",
       "    </tr>\n",
       "    <tr>\n",
       "      <th>OrLoanTerm</th>\n",
       "      <td>311.325084</td>\n",
       "      <td>338.907633</td>\n",
       "    </tr>\n",
       "    <tr>\n",
       "      <th>OrLTV</th>\n",
       "      <td>72.692409</td>\n",
       "      <td>82.650872</td>\n",
       "    </tr>\n",
       "    <tr>\n",
       "      <th>OrCLTV</th>\n",
       "      <td>72.950785</td>\n",
       "      <td>82.767502</td>\n",
       "    </tr>\n",
       "    <tr>\n",
       "      <th>NumBorrow</th>\n",
       "      <td>1.647948</td>\n",
       "      <td>1.380164</td>\n",
       "    </tr>\n",
       "    <tr>\n",
       "      <th>DTIRat</th>\n",
       "      <td>32.980002</td>\n",
       "      <td>35.471642</td>\n",
       "    </tr>\n",
       "    <tr>\n",
       "      <th>CreditScore</th>\n",
       "      <td>721.226111</td>\n",
       "      <td>671.508228</td>\n",
       "    </tr>\n",
       "    <tr>\n",
       "      <th>NumUnits</th>\n",
       "      <td>1.039794</td>\n",
       "      <td>1.041179</td>\n",
       "    </tr>\n",
       "    <tr>\n",
       "      <th>Avg_Foreclosure_Time</th>\n",
       "      <td>180.052829</td>\n",
       "      <td>187.624415</td>\n",
       "    </tr>\n",
       "    <tr>\n",
       "      <th>Recourse</th>\n",
       "      <td>0.690888</td>\n",
       "      <td>0.840172</td>\n",
       "    </tr>\n",
       "    <tr>\n",
       "      <th>Judicial</th>\n",
       "      <td>0.429463</td>\n",
       "      <td>0.417496</td>\n",
       "    </tr>\n",
       "  </tbody>\n",
       "</table>\n",
       "</div>"
      ],
      "text/plain": [
       "Default                           0             1\n",
       "OrInterestRate             6.980133      7.322773\n",
       "OrUnpaidPrinc         139890.177905  99104.659330\n",
       "OrLoanTerm               311.325084    338.907633\n",
       "OrLTV                     72.692409     82.650872\n",
       "OrCLTV                    72.950785     82.767502\n",
       "NumBorrow                  1.647948      1.380164\n",
       "DTIRat                    32.980002     35.471642\n",
       "CreditScore              721.226111    671.508228\n",
       "NumUnits                   1.039794      1.041179\n",
       "Avg_Foreclosure_Time     180.052829    187.624415\n",
       "Recourse                   0.690888      0.840172\n",
       "Judicial                   0.429463      0.417496"
      ]
     },
     "execution_count": 14,
     "metadata": {},
     "output_type": "execute_result"
    }
   ],
   "source": [
    "df.groupby('Default').mean().transpose()"
   ]
  },
  {
   "cell_type": "code",
   "execution_count": 15,
   "metadata": {},
   "outputs": [
    {
     "name": "stdout",
     "output_type": "stream",
     "text": [
      "Channel                           B              C              R\n",
      "OrInterestRate             7.031071       7.031368       6.932258\n",
      "OrUnpaidPrinc         143951.095366  143638.622038  134644.051021\n",
      "OrLoanTerm               316.297078     319.211014     304.780418\n",
      "OrLTV                     74.049785      73.281651      71.902148\n",
      "OrCLTV                    74.297709      73.412987      72.238545\n",
      "NumBorrow                  1.611933       1.647281       1.659865\n",
      "DTIRat                    32.996946      33.845474      32.529986\n",
      "CreditScore              714.557524     721.743435     723.053499\n",
      "NumUnits                   1.047913       1.034990       1.038672\n",
      "Avg_Foreclosure_Time     175.836713     177.166680     184.063233\n",
      "Recourse                   0.668345       0.689387       0.706577\n",
      "Judicial                   0.400844       0.423357       0.447076\n",
      "Default                    0.017702       0.010640       0.008760\n",
      "FTHomeBuyer                       N              U              Y\n",
      "OrInterestRate             6.969545       7.185503       7.163915\n",
      "OrUnpaidPrinc         139804.222332  155421.113882  134123.198545\n",
      "OrLoanTerm               308.835683     337.755445     346.781507\n",
      "OrLTV                     71.896657      75.984871      84.349592\n",
      "OrCLTV                    72.139631      76.082041      84.787301\n",
      "NumBorrow                  1.656030       1.592430       1.503854\n",
      "DTIRat                    32.928240      33.279023      34.012444\n",
      "CreditScore              720.983421     724.257148     716.403272\n",
      "NumUnits                   1.040985       1.032253       1.024995\n",
      "Avg_Foreclosure_Time     179.965360     168.071820     182.698912\n",
      "Recourse                   0.688062       0.654364       0.751594\n",
      "Judicial                   0.424525       0.432086       0.490661\n",
      "Default                    0.011066       0.015295       0.015825\n",
      "LoanPurpose                       C              P              R  \\\n",
      "OrInterestRate             6.925761       7.131857       6.888863   \n",
      "OrUnpaidPrinc         136371.745688  140527.536069  141047.522595   \n",
      "OrLoanTerm               293.335745     341.055662     298.673319   \n",
      "OrLTV                     66.860976      79.992779      70.948381   \n",
      "OrCLTV                    67.014509      80.384226      71.163510   \n",
      "NumBorrow                  1.662020       1.599041       1.675311   \n",
      "DTIRat                    33.198611      33.988235      31.852764   \n",
      "CreditScore              714.354749     724.586253     722.447973   \n",
      "NumUnits                   1.048794       1.033898       1.037703   \n",
      "Avg_Foreclosure_Time     183.533088     176.354628     180.899536   \n",
      "Recourse                   0.646281       0.739601       0.687094   \n",
      "Judicial                   0.407592       0.461582       0.416633   \n",
      "Default                    0.011723       0.011769       0.010796   \n",
      "\n",
      "LoanPurpose                       U  \n",
      "OrInterestRate             6.870111  \n",
      "OrUnpaidPrinc         145404.160475  \n",
      "OrLoanTerm               308.558692  \n",
      "OrLTV                     80.341753  \n",
      "OrCLTV                    80.384844  \n",
      "NumBorrow                  1.687964  \n",
      "DTIRat                    33.866562  \n",
      "CreditScore              711.858631  \n",
      "NumUnits                   1.001486  \n",
      "Avg_Foreclosure_Time     150.392273  \n",
      "Recourse                   0.707281  \n",
      "Judicial                   0.364042  \n",
      "Default                    0.013373  \n",
      "PropertyType                     CO             CP            MH  \\\n",
      "OrInterestRate             7.077676       7.268735      7.187219   \n",
      "OrUnpaidPrinc         129754.899444  109856.790884  86247.441053   \n",
      "OrLoanTerm               325.518226     314.807515    313.960885   \n",
      "OrLTV                     74.160815      70.857817     77.228158   \n",
      "OrCLTV                    74.449574      70.859959     77.272345   \n",
      "NumBorrow                  1.406762       1.335387      1.586681   \n",
      "DTIRat                    33.043222      30.826101     34.117388   \n",
      "CreditScore              728.547617     723.326919    699.563693   \n",
      "NumUnits                   1.001953       1.001027      1.000594   \n",
      "Avg_Foreclosure_Time     180.055486     428.199877    161.405913   \n",
      "Recourse                   0.679755       0.992506      0.557896   \n",
      "Judicial                   0.498236       0.985833      0.262795   \n",
      "Default                    0.006544       0.002258      0.074621   \n",
      "\n",
      "PropertyType                     PU             SF  \n",
      "OrInterestRate             6.963463       6.975723  \n",
      "OrUnpaidPrinc         159743.091303  138902.720896  \n",
      "OrLoanTerm               327.594479     309.062642  \n",
      "OrLTV                     74.645372      72.501222  \n",
      "OrCLTV                    75.163389      72.734600  \n",
      "NumBorrow                  1.651825       1.664629  \n",
      "DTIRat                    34.027710      32.910435  \n",
      "CreditScore              724.510070     719.867101  \n",
      "NumUnits                   1.001637       1.046753  \n",
      "Avg_Foreclosure_Time     127.343978     184.171066  \n",
      "Recourse                   0.717080       0.691376  \n",
      "Judicial                   0.294285       0.435540  \n",
      "Default                    0.006910       0.011701  \n",
      "OccStatus                         I              P              S\n",
      "OrInterestRate             7.438850       6.957183       7.028004\n",
      "OrUnpaidPrinc         106938.739052  141480.357189  131581.362087\n",
      "OrLoanTerm               314.031046     311.469551     312.874499\n",
      "OrLTV                     71.622554      72.883312      72.441895\n",
      "OrCLTV                    71.657462      73.156047      72.578822\n",
      "NumBorrow                  1.622326       1.643407       1.739285\n",
      "DTIRat                    31.794024      33.150709      30.363812\n",
      "CreditScore              721.793596     720.109680     737.515010\n",
      "NumUnits                   1.365760       1.022598       1.001368\n",
      "Avg_Foreclosure_Time     164.916696     181.337378     168.416387\n",
      "Recourse                   0.645197       0.694794       0.708517\n",
      "Judicial                   0.368378       0.431536       0.471109\n",
      "Default                    0.028235       0.010661       0.004962\n",
      "RelMortInd                        N              Y\n",
      "OrInterestRate             6.985431       6.665649\n",
      "OrUnpaidPrinc         139303.660955  167183.479870\n",
      "OrLoanTerm               311.543908     333.728752\n",
      "OrLTV                     72.788345      76.890560\n",
      "OrCLTV                    73.046079      76.925420\n",
      "NumBorrow                  1.644659       1.697947\n",
      "DTIRat                    33.021549      30.077133\n",
      "CreditScore              720.609365     733.501913\n",
      "NumUnits                   1.039978       1.001080\n",
      "Avg_Foreclosure_Time     180.191782     168.076585\n",
      "Recourse                   0.692086       0.809039\n",
      "Judicial                   0.429296       0.436295\n",
      "Default                    0.011450       0.004165\n"
     ]
    }
   ],
   "source": [
    "for i in df.columns[df.dtypes == 'object']:\n",
    "    a = (df.groupby(i).mean())\n",
    "    print (pd.DataFrame(a).transpose())"
   ]
  },
  {
   "cell_type": "code",
   "execution_count": 16,
   "metadata": {},
   "outputs": [
    {
     "data": {
      "text/plain": [
       "Index(['Channel', 'FTHomeBuyer', 'LoanPurpose', 'PropertyType', 'OccStatus',\n",
       "       'RelMortInd'],\n",
       "      dtype='object')"
      ]
     },
     "execution_count": 16,
     "metadata": {},
     "output_type": "execute_result"
    }
   ],
   "source": [
    "df.columns[df.dtypes=='object']"
   ]
  },
  {
   "cell_type": "code",
   "execution_count": 17,
   "metadata": {},
   "outputs": [
    {
     "data": {
      "text/plain": [
       "<matplotlib.axes._subplots.AxesSubplot at 0x1340173c460>"
      ]
     },
     "execution_count": 17,
     "metadata": {},
     "output_type": "execute_result"
    },
    {
     "data": {
      "image/png": "[encoded data removed]",
      "text/plain": [
       "<Figure size 432x288 with 1 Axes>"
      ]
     },
     "metadata": {
      "needs_background": "light"
     },
     "output_type": "display_data"
    }
   ],
   "source": [
    "pd.crosstab(df.Recourse, df.Judicial).plot(kind='bar', stacked = True)"
   ]
  },
  {
   "cell_type": "code",
   "execution_count": 18,
   "metadata": {},
   "outputs": [],
   "source": [
    "columns = df.columns[df.isnull().any()]\n",
    "nan_cols = df[columns]\n",
    "\n",
    "df.drop(nan_cols.columns, axis=1, inplace=True)\n",
    "\n",
    "cat = df.select_dtypes(include=['object'])\n",
    "num = df.drop(cat.columns, axis=1)\n",
    "\n",
    "data = pd.DataFrame()\n",
    "for i in cat.columns:\n",
    "    tmp = pd.get_dummies(cat[i], prefix = i, drop_first=True)\n",
    "    data = pd.concat([data, tmp], axis=1)\n",
    "\n",
    "df = pd.concat([num,data,nan_cols], axis=1).reset_index(drop=True)\n"
   ]
  },
  {
   "cell_type": "code",
   "execution_count": 19,
   "metadata": {},
   "outputs": [],
   "source": [
    "columns = df.columns[df.isnull().any()]\n",
    "for column in columns:\n",
    "    col_mean = df.loc[df[column].notnull(), column].values.mean()\n",
    "    df.loc[df[column].isnull(), column] = col_mean"
   ]
  },
  {
   "cell_type": "code",
   "execution_count": 20,
   "metadata": {},
   "outputs": [],
   "source": [
    "float_y = df.columns[df.dtypes=='float64']\n",
    "for i in float_y:\n",
    "    df[i].astype(int)"
   ]
  },
  {
   "cell_type": "code",
   "execution_count": 21,
   "metadata": {},
   "outputs": [],
   "source": [
    "from imblearn.over_sampling import SMOTE"
   ]
  },
  {
   "cell_type": "code",
   "execution_count": 22,
   "metadata": {},
   "outputs": [],
   "source": [
    "X = df.loc[:, df.columns != 'Default']\n",
    "\n",
    "y= df.loc[:, df.columns == 'Default']"
   ]
  },
  {
   "cell_type": "code",
   "execution_count": 23,
   "metadata": {},
   "outputs": [],
   "source": [
    "os = SMOTE(random_state=0)"
   ]
  },
  {
   "cell_type": "code",
   "execution_count": 24,
   "metadata": {},
   "outputs": [],
   "source": [
    " X_train, X_test, y_train, y_test = train_test_split(X, y, test_size=0.30, random_state=0)"
   ]
  },
  {
   "cell_type": "code",
   "execution_count": 25,
   "metadata": {},
   "outputs": [
    {
     "name": "stdout",
     "output_type": "stream",
     "text": [
      "(2094627, 26)\n",
      "<class 'pandas.core.frame.DataFrame'>\n",
      "(897698, 26)\n",
      "(2094627, 1)\n",
      "(897698, 1)\n"
     ]
    }
   ],
   "source": [
    "print(X_train.shape)\n",
    "print(type(X_train))\n",
    "print(X_test.shape)\n",
    "print(y_train.shape)\n",
    "print(y_test.shape)"
   ]
  },
  {
   "cell_type": "code",
   "execution_count": 26,
   "metadata": {},
   "outputs": [],
   "source": [
    "os_X, os_y =  os.fit_sample(X_train,y_train)"
   ]
  },
  {
   "cell_type": "code",
   "execution_count": 27,
   "metadata": {},
   "outputs": [
    {
     "data": {
      "text/html": [
       "<div>\n",
       "<style scoped>\n",
       "    .dataframe tbody tr th:only-of-type {\n",
       "        vertical-align: middle;\n",
       "    }\n",
       "\n",
       "    .dataframe tbody tr th {\n",
       "        vertical-align: top;\n",
       "    }\n",
       "\n",
       "    .dataframe thead th {\n",
       "        text-align: right;\n",
       "    }\n",
       "</style>\n",
       "<table border=\"1\" class=\"dataframe\">\n",
       "  <thead>\n",
       "    <tr style=\"text-align: right;\">\n",
       "      <th></th>\n",
       "      <th>OrUnpaidPrinc</th>\n",
       "      <th>OrLoanTerm</th>\n",
       "      <th>OrLTV</th>\n",
       "      <th>NumUnits</th>\n",
       "      <th>Avg_Foreclosure_Time</th>\n",
       "      <th>Recourse</th>\n",
       "      <th>Judicial</th>\n",
       "      <th>Channel_C</th>\n",
       "      <th>Channel_R</th>\n",
       "      <th>FTHomeBuyer_U</th>\n",
       "      <th>...</th>\n",
       "      <th>PropertyType_PU</th>\n",
       "      <th>PropertyType_SF</th>\n",
       "      <th>OccStatus_P</th>\n",
       "      <th>OccStatus_S</th>\n",
       "      <th>RelMortInd_Y</th>\n",
       "      <th>OrInterestRate</th>\n",
       "      <th>OrCLTV</th>\n",
       "      <th>NumBorrow</th>\n",
       "      <th>DTIRat</th>\n",
       "      <th>CreditScore</th>\n",
       "    </tr>\n",
       "  </thead>\n",
       "  <tbody>\n",
       "    <tr>\n",
       "      <th>0</th>\n",
       "      <td>274000</td>\n",
       "      <td>360</td>\n",
       "      <td>80.000000</td>\n",
       "      <td>1</td>\n",
       "      <td>173</td>\n",
       "      <td>1</td>\n",
       "      <td>0</td>\n",
       "      <td>0</td>\n",
       "      <td>0</td>\n",
       "      <td>0</td>\n",
       "      <td>...</td>\n",
       "      <td>0</td>\n",
       "      <td>1</td>\n",
       "      <td>1</td>\n",
       "      <td>0</td>\n",
       "      <td>0</td>\n",
       "      <td>6.625000</td>\n",
       "      <td>80.000000</td>\n",
       "      <td>1.000000</td>\n",
       "      <td>34.000000</td>\n",
       "      <td>688.000000</td>\n",
       "    </tr>\n",
       "    <tr>\n",
       "      <th>1</th>\n",
       "      <td>50000</td>\n",
       "      <td>120</td>\n",
       "      <td>38.000000</td>\n",
       "      <td>1</td>\n",
       "      <td>75</td>\n",
       "      <td>1</td>\n",
       "      <td>1</td>\n",
       "      <td>0</td>\n",
       "      <td>0</td>\n",
       "      <td>0</td>\n",
       "      <td>...</td>\n",
       "      <td>0</td>\n",
       "      <td>1</td>\n",
       "      <td>1</td>\n",
       "      <td>0</td>\n",
       "      <td>0</td>\n",
       "      <td>6.500000</td>\n",
       "      <td>38.000000</td>\n",
       "      <td>1.000000</td>\n",
       "      <td>33.008443</td>\n",
       "      <td>756.000000</td>\n",
       "    </tr>\n",
       "    <tr>\n",
       "      <th>2</th>\n",
       "      <td>160000</td>\n",
       "      <td>360</td>\n",
       "      <td>78.000000</td>\n",
       "      <td>1</td>\n",
       "      <td>360</td>\n",
       "      <td>1</td>\n",
       "      <td>0</td>\n",
       "      <td>1</td>\n",
       "      <td>0</td>\n",
       "      <td>0</td>\n",
       "      <td>...</td>\n",
       "      <td>0</td>\n",
       "      <td>1</td>\n",
       "      <td>1</td>\n",
       "      <td>0</td>\n",
       "      <td>0</td>\n",
       "      <td>7.125000</td>\n",
       "      <td>78.000000</td>\n",
       "      <td>2.000000</td>\n",
       "      <td>22.000000</td>\n",
       "      <td>692.000000</td>\n",
       "    </tr>\n",
       "    <tr>\n",
       "      <th>3</th>\n",
       "      <td>85000</td>\n",
       "      <td>240</td>\n",
       "      <td>62.000000</td>\n",
       "      <td>1</td>\n",
       "      <td>150</td>\n",
       "      <td>0</td>\n",
       "      <td>0</td>\n",
       "      <td>0</td>\n",
       "      <td>0</td>\n",
       "      <td>0</td>\n",
       "      <td>...</td>\n",
       "      <td>0</td>\n",
       "      <td>0</td>\n",
       "      <td>1</td>\n",
       "      <td>0</td>\n",
       "      <td>0</td>\n",
       "      <td>6.750000</td>\n",
       "      <td>62.000000</td>\n",
       "      <td>1.000000</td>\n",
       "      <td>56.000000</td>\n",
       "      <td>691.000000</td>\n",
       "    </tr>\n",
       "    <tr>\n",
       "      <th>4</th>\n",
       "      <td>246000</td>\n",
       "      <td>360</td>\n",
       "      <td>75.000000</td>\n",
       "      <td>1</td>\n",
       "      <td>173</td>\n",
       "      <td>1</td>\n",
       "      <td>0</td>\n",
       "      <td>1</td>\n",
       "      <td>0</td>\n",
       "      <td>0</td>\n",
       "      <td>...</td>\n",
       "      <td>0</td>\n",
       "      <td>1</td>\n",
       "      <td>1</td>\n",
       "      <td>0</td>\n",
       "      <td>0</td>\n",
       "      <td>6.875000</td>\n",
       "      <td>75.000000</td>\n",
       "      <td>2.000000</td>\n",
       "      <td>33.008443</td>\n",
       "      <td>750.000000</td>\n",
       "    </tr>\n",
       "    <tr>\n",
       "      <th>...</th>\n",
       "      <td>...</td>\n",
       "      <td>...</td>\n",
       "      <td>...</td>\n",
       "      <td>...</td>\n",
       "      <td>...</td>\n",
       "      <td>...</td>\n",
       "      <td>...</td>\n",
       "      <td>...</td>\n",
       "      <td>...</td>\n",
       "      <td>...</td>\n",
       "      <td>...</td>\n",
       "      <td>...</td>\n",
       "      <td>...</td>\n",
       "      <td>...</td>\n",
       "      <td>...</td>\n",
       "      <td>...</td>\n",
       "      <td>...</td>\n",
       "      <td>...</td>\n",
       "      <td>...</td>\n",
       "      <td>...</td>\n",
       "      <td>...</td>\n",
       "    </tr>\n",
       "    <tr>\n",
       "      <th>4141243</th>\n",
       "      <td>76000</td>\n",
       "      <td>360</td>\n",
       "      <td>93.545988</td>\n",
       "      <td>1</td>\n",
       "      <td>173</td>\n",
       "      <td>1</td>\n",
       "      <td>0</td>\n",
       "      <td>0</td>\n",
       "      <td>0</td>\n",
       "      <td>0</td>\n",
       "      <td>...</td>\n",
       "      <td>0</td>\n",
       "      <td>0</td>\n",
       "      <td>1</td>\n",
       "      <td>0</td>\n",
       "      <td>0</td>\n",
       "      <td>7.500000</td>\n",
       "      <td>93.545988</td>\n",
       "      <td>1.000000</td>\n",
       "      <td>41.501466</td>\n",
       "      <td>602.955479</td>\n",
       "    </tr>\n",
       "    <tr>\n",
       "      <th>4141244</th>\n",
       "      <td>33000</td>\n",
       "      <td>360</td>\n",
       "      <td>77.326636</td>\n",
       "      <td>1</td>\n",
       "      <td>267</td>\n",
       "      <td>0</td>\n",
       "      <td>0</td>\n",
       "      <td>1</td>\n",
       "      <td>0</td>\n",
       "      <td>0</td>\n",
       "      <td>...</td>\n",
       "      <td>0</td>\n",
       "      <td>1</td>\n",
       "      <td>0</td>\n",
       "      <td>0</td>\n",
       "      <td>0</td>\n",
       "      <td>7.181488</td>\n",
       "      <td>77.326636</td>\n",
       "      <td>1.548097</td>\n",
       "      <td>21.586148</td>\n",
       "      <td>757.749466</td>\n",
       "    </tr>\n",
       "    <tr>\n",
       "      <th>4141245</th>\n",
       "      <td>75000</td>\n",
       "      <td>360</td>\n",
       "      <td>87.091589</td>\n",
       "      <td>1</td>\n",
       "      <td>217</td>\n",
       "      <td>1</td>\n",
       "      <td>1</td>\n",
       "      <td>0</td>\n",
       "      <td>0</td>\n",
       "      <td>0</td>\n",
       "      <td>...</td>\n",
       "      <td>0</td>\n",
       "      <td>1</td>\n",
       "      <td>1</td>\n",
       "      <td>0</td>\n",
       "      <td>0</td>\n",
       "      <td>6.802290</td>\n",
       "      <td>87.091589</td>\n",
       "      <td>1.000000</td>\n",
       "      <td>30.091589</td>\n",
       "      <td>665.300748</td>\n",
       "    </tr>\n",
       "    <tr>\n",
       "      <th>4141246</th>\n",
       "      <td>222000</td>\n",
       "      <td>360</td>\n",
       "      <td>93.274150</td>\n",
       "      <td>1</td>\n",
       "      <td>37</td>\n",
       "      <td>1</td>\n",
       "      <td>0</td>\n",
       "      <td>0</td>\n",
       "      <td>1</td>\n",
       "      <td>0</td>\n",
       "      <td>...</td>\n",
       "      <td>1</td>\n",
       "      <td>0</td>\n",
       "      <td>1</td>\n",
       "      <td>0</td>\n",
       "      <td>0</td>\n",
       "      <td>7.385299</td>\n",
       "      <td>93.274150</td>\n",
       "      <td>1.808239</td>\n",
       "      <td>43.781256</td>\n",
       "      <td>647.752833</td>\n",
       "    </tr>\n",
       "    <tr>\n",
       "      <th>4141247</th>\n",
       "      <td>59000</td>\n",
       "      <td>180</td>\n",
       "      <td>71.677213</td>\n",
       "      <td>1</td>\n",
       "      <td>381</td>\n",
       "      <td>1</td>\n",
       "      <td>0</td>\n",
       "      <td>0</td>\n",
       "      <td>1</td>\n",
       "      <td>0</td>\n",
       "      <td>...</td>\n",
       "      <td>0</td>\n",
       "      <td>1</td>\n",
       "      <td>0</td>\n",
       "      <td>0</td>\n",
       "      <td>0</td>\n",
       "      <td>7.176911</td>\n",
       "      <td>71.677213</td>\n",
       "      <td>1.000000</td>\n",
       "      <td>36.584671</td>\n",
       "      <td>709.604694</td>\n",
       "    </tr>\n",
       "  </tbody>\n",
       "</table>\n",
       "<p>4141248 rows × 26 columns</p>\n",
       "</div>"
      ],
      "text/plain": [
       "         OrUnpaidPrinc  OrLoanTerm      OrLTV  NumUnits  Avg_Foreclosure_Time  \\\n",
       "0               274000         360  80.000000         1                   173   \n",
       "1                50000         120  38.000000         1                    75   \n",
       "2               160000         360  78.000000         1                   360   \n",
       "3                85000         240  62.000000         1                   150   \n",
       "4               246000         360  75.000000         1                   173   \n",
       "...                ...         ...        ...       ...                   ...   \n",
       "4141243          76000         360  93.545988         1                   173   \n",
       "4141244          33000         360  77.326636         1                   267   \n",
       "4141245          75000         360  87.091589         1                   217   \n",
       "4141246         222000         360  93.274150         1                    37   \n",
       "4141247          59000         180  71.677213         1                   381   \n",
       "\n",
       "         Recourse  Judicial  Channel_C  Channel_R  FTHomeBuyer_U  ...  \\\n",
       "0               1         0          0          0              0  ...   \n",
       "1               1         1          0          0              0  ...   \n",
       "2               1         0          1          0              0  ...   \n",
       "3               0         0          0          0              0  ...   \n",
       "4               1         0          1          0              0  ...   \n",
       "...           ...       ...        ...        ...            ...  ...   \n",
       "4141243         1         0          0          0              0  ...   \n",
       "4141244         0         0          1          0              0  ...   \n",
       "4141245         1         1          0          0              0  ...   \n",
       "4141246         1         0          0          1              0  ...   \n",
       "4141247         1         0          0          1              0  ...   \n",
       "\n",
       "         PropertyType_PU  PropertyType_SF  OccStatus_P  OccStatus_S  \\\n",
       "0                      0                1            1            0   \n",
       "1                      0                1            1            0   \n",
       "2                      0                1            1            0   \n",
       "3                      0                0            1            0   \n",
       "4                      0                1            1            0   \n",
       "...                  ...              ...          ...          ...   \n",
       "4141243                0                0            1            0   \n",
       "4141244                0                1            0            0   \n",
       "4141245                0                1            1            0   \n",
       "4141246                1                0            1            0   \n",
       "4141247                0                1            0            0   \n",
       "\n",
       "         RelMortInd_Y  OrInterestRate     OrCLTV  NumBorrow     DTIRat  \\\n",
       "0                   0        6.625000  80.000000   1.000000  34.000000   \n",
       "1                   0        6.500000  38.000000   1.000000  33.008443   \n",
       "2                   0        7.125000  78.000000   2.000000  22.000000   \n",
       "3                   0        6.750000  62.000000   1.000000  56.000000   \n",
       "4                   0        6.875000  75.000000   2.000000  33.008443   \n",
       "...               ...             ...        ...        ...        ...   \n",
       "4141243             0        7.500000  93.545988   1.000000  41.501466   \n",
       "4141244             0        7.181488  77.326636   1.548097  21.586148   \n",
       "4141245             0        6.802290  87.091589   1.000000  30.091589   \n",
       "4141246             0        7.385299  93.274150   1.808239  43.781256   \n",
       "4141247             0        7.176911  71.677213   1.000000  36.584671   \n",
       "\n",
       "         CreditScore  \n",
       "0         688.000000  \n",
       "1         756.000000  \n",
       "2         692.000000  \n",
       "3         691.000000  \n",
       "4         750.000000  \n",
       "...              ...  \n",
       "4141243   602.955479  \n",
       "4141244   757.749466  \n",
       "4141245   665.300748  \n",
       "4141246   647.752833  \n",
       "4141247   709.604694  \n",
       "\n",
       "[4141248 rows x 26 columns]"
      ]
     },
     "execution_count": 27,
     "metadata": {},
     "output_type": "execute_result"
    }
   ],
   "source": [
    "os_X"
   ]
  },
  {
   "cell_type": "code",
   "execution_count": 28,
   "metadata": {},
   "outputs": [
    {
     "name": "stderr",
     "output_type": "stream",
     "text": [
      "E:\\mojeProgramy\\Anaconda\\lib\\site-packages\\sklearn\\utils\\validation.py:68: FutureWarning: Pass n_features_to_select=20 as keyword args. From version 0.25 passing these as positional arguments will result in an error\n",
      "  warnings.warn(\"Pass {} as keyword args. From version 0.25 \"\n",
      "E:\\mojeProgramy\\Anaconda\\lib\\site-packages\\sklearn\\linear_model\\_logistic.py:762: ConvergenceWarning: lbfgs failed to converge (status=1):\n",
      "STOP: TOTAL NO. of ITERATIONS REACHED LIMIT.\n",
      "\n",
      "Increase the number of iterations (max_iter) or scale the data as shown in:\n",
      "    https://scikit-learn.org/stable/modules/preprocessing.html\n",
      "Please also refer to the documentation for alternative solver options:\n",
      "    https://scikit-learn.org/stable/modules/linear_model.html#logistic-regression\n",
      "  n_iter_i = _check_optimize_result(\n",
      "E:\\mojeProgramy\\Anaconda\\lib\\site-packages\\sklearn\\linear_model\\_logistic.py:762: ConvergenceWarning: lbfgs failed to converge (status=1):\n",
      "STOP: TOTAL NO. of ITERATIONS REACHED LIMIT.\n",
      "\n",
      "Increase the number of iterations (max_iter) or scale the data as shown in:\n",
      "    https://scikit-learn.org/stable/modules/preprocessing.html\n",
      "Please also refer to the documentation for alternative solver options:\n",
      "    https://scikit-learn.org/stable/modules/linear_model.html#logistic-regression\n",
      "  n_iter_i = _check_optimize_result(\n"
     ]
    },
    {
     "name": "stdout",
     "output_type": "stream",
     "text": [
      "[False  True  True  True False  True  True  True  True False  True  True\n",
      "  True False False  True  True  True  True  True False  True  True  True\n",
      "  True  True]\n",
      "[3 1 1 1 2 1 1 1 1 6 1 1 1 7 4 1 1 1 1 1 5 1 1 1 1 1]\n"
     ]
    },
    {
     "name": "stderr",
     "output_type": "stream",
     "text": [
      "E:\\mojeProgramy\\Anaconda\\lib\\site-packages\\sklearn\\linear_model\\_logistic.py:762: ConvergenceWarning: lbfgs failed to converge (status=1):\n",
      "STOP: TOTAL NO. of ITERATIONS REACHED LIMIT.\n",
      "\n",
      "Increase the number of iterations (max_iter) or scale the data as shown in:\n",
      "    https://scikit-learn.org/stable/modules/preprocessing.html\n",
      "Please also refer to the documentation for alternative solver options:\n",
      "    https://scikit-learn.org/stable/modules/linear_model.html#logistic-regression\n",
      "  n_iter_i = _check_optimize_result(\n"
     ]
    }
   ],
   "source": [
    "data_final_vars=df.columns.values.tolist()\n",
    "y=['y']\n",
    "X=[i for i in data_final_vars if i not in y]\n",
    "from sklearn.feature_selection import RFE\n",
    "from sklearn.linear_model import LogisticRegression\n",
    "logreg = LogisticRegression()\n",
    "rfe = RFE(logreg, 20)\n",
    "rfe = rfe.fit(os_X, os_y.values.ravel())\n",
    "print(rfe.support_)\n",
    "print(rfe.ranking_)"
   ]
  },
  {
   "cell_type": "code",
   "execution_count": 29,
   "metadata": {},
   "outputs": [],
   "source": [
    "columns = df.columns.values.tolist()"
   ]
  },
  {
   "cell_type": "code",
   "execution_count": 30,
   "metadata": {},
   "outputs": [],
   "source": [
    "from sklearn.feature_selection import RFE\n",
    "from sklearn.linear_model import LogisticRegression"
   ]
  },
  {
   "cell_type": "code",
   "execution_count": 31,
   "metadata": {},
   "outputs": [],
   "source": [
    "logre = LogisticRegression()"
   ]
  },
  {
   "cell_type": "code",
   "execution_count": 56,
   "metadata": {},
   "outputs": [
    {
     "name": "stderr",
     "output_type": "stream",
     "text": [
      "E:\\mojeProgramy\\Anaconda\\lib\\site-packages\\sklearn\\utils\\validation.py:68: FutureWarning: Pass n_features_to_select=10 as keyword args. From version 0.25 passing these as positional arguments will result in an error\n",
      "  warnings.warn(\"Pass {} as keyword args. From version 0.25 \"\n"
     ]
    }
   ],
   "source": [
    "rfe = RFE(logre, 10)"
   ]
  },
  {
   "cell_type": "code",
   "execution_count": 57,
   "metadata": {},
   "outputs": [
    {
     "name": "stderr",
     "output_type": "stream",
     "text": [
      "E:\\mojeProgramy\\Anaconda\\lib\\site-packages\\sklearn\\linear_model\\_logistic.py:762: ConvergenceWarning: lbfgs failed to converge (status=1):\n",
      "STOP: TOTAL NO. of ITERATIONS REACHED LIMIT.\n",
      "\n",
      "Increase the number of iterations (max_iter) or scale the data as shown in:\n",
      "    https://scikit-learn.org/stable/modules/preprocessing.html\n",
      "Please also refer to the documentation for alternative solver options:\n",
      "    https://scikit-learn.org/stable/modules/linear_model.html#logistic-regression\n",
      "  n_iter_i = _check_optimize_result(\n",
      "E:\\mojeProgramy\\Anaconda\\lib\\site-packages\\sklearn\\linear_model\\_logistic.py:762: ConvergenceWarning: lbfgs failed to converge (status=1):\n",
      "STOP: TOTAL NO. of ITERATIONS REACHED LIMIT.\n",
      "\n",
      "Increase the number of iterations (max_iter) or scale the data as shown in:\n",
      "    https://scikit-learn.org/stable/modules/preprocessing.html\n",
      "Please also refer to the documentation for alternative solver options:\n",
      "    https://scikit-learn.org/stable/modules/linear_model.html#logistic-regression\n",
      "  n_iter_i = _check_optimize_result(\n",
      "E:\\mojeProgramy\\Anaconda\\lib\\site-packages\\sklearn\\linear_model\\_logistic.py:762: ConvergenceWarning: lbfgs failed to converge (status=1):\n",
      "STOP: TOTAL NO. of ITERATIONS REACHED LIMIT.\n",
      "\n",
      "Increase the number of iterations (max_iter) or scale the data as shown in:\n",
      "    https://scikit-learn.org/stable/modules/preprocessing.html\n",
      "Please also refer to the documentation for alternative solver options:\n",
      "    https://scikit-learn.org/stable/modules/linear_model.html#logistic-regression\n",
      "  n_iter_i = _check_optimize_result(\n",
      "E:\\mojeProgramy\\Anaconda\\lib\\site-packages\\sklearn\\linear_model\\_logistic.py:762: ConvergenceWarning: lbfgs failed to converge (status=1):\n",
      "STOP: TOTAL NO. of ITERATIONS REACHED LIMIT.\n",
      "\n",
      "Increase the number of iterations (max_iter) or scale the data as shown in:\n",
      "    https://scikit-learn.org/stable/modules/preprocessing.html\n",
      "Please also refer to the documentation for alternative solver options:\n",
      "    https://scikit-learn.org/stable/modules/linear_model.html#logistic-regression\n",
      "  n_iter_i = _check_optimize_result(\n",
      "E:\\mojeProgramy\\Anaconda\\lib\\site-packages\\sklearn\\linear_model\\_logistic.py:762: ConvergenceWarning: lbfgs failed to converge (status=1):\n",
      "STOP: TOTAL NO. of ITERATIONS REACHED LIMIT.\n",
      "\n",
      "Increase the number of iterations (max_iter) or scale the data as shown in:\n",
      "    https://scikit-learn.org/stable/modules/preprocessing.html\n",
      "Please also refer to the documentation for alternative solver options:\n",
      "    https://scikit-learn.org/stable/modules/linear_model.html#logistic-regression\n",
      "  n_iter_i = _check_optimize_result(\n",
      "E:\\mojeProgramy\\Anaconda\\lib\\site-packages\\sklearn\\linear_model\\_logistic.py:762: ConvergenceWarning: lbfgs failed to converge (status=1):\n",
      "STOP: TOTAL NO. of ITERATIONS REACHED LIMIT.\n",
      "\n",
      "Increase the number of iterations (max_iter) or scale the data as shown in:\n",
      "    https://scikit-learn.org/stable/modules/preprocessing.html\n",
      "Please also refer to the documentation for alternative solver options:\n",
      "    https://scikit-learn.org/stable/modules/linear_model.html#logistic-regression\n",
      "  n_iter_i = _check_optimize_result(\n",
      "E:\\mojeProgramy\\Anaconda\\lib\\site-packages\\sklearn\\linear_model\\_logistic.py:762: ConvergenceWarning: lbfgs failed to converge (status=1):\n",
      "STOP: TOTAL NO. of ITERATIONS REACHED LIMIT.\n",
      "\n",
      "Increase the number of iterations (max_iter) or scale the data as shown in:\n",
      "    https://scikit-learn.org/stable/modules/preprocessing.html\n",
      "Please also refer to the documentation for alternative solver options:\n",
      "    https://scikit-learn.org/stable/modules/linear_model.html#logistic-regression\n",
      "  n_iter_i = _check_optimize_result(\n"
     ]
    },
    {
     "data": {
      "text/plain": [
       "RFE(estimator=LogisticRegression(), n_features_to_select=10)"
      ]
     },
     "execution_count": 57,
     "metadata": {},
     "output_type": "execute_result"
    }
   ],
   "source": [
    "rfe.fit(os_X, os_y.values.ravel())"
   ]
  },
  {
   "cell_type": "code",
   "execution_count": 58,
   "metadata": {},
   "outputs": [],
   "source": [
    "supp = rfe.support_"
   ]
  },
  {
   "cell_type": "code",
   "execution_count": 59,
   "metadata": {},
   "outputs": [],
   "source": [
    "to_be_used = pd.concat([pd.DataFrame(df.columns), pd.DataFrame(rfe.support_)], axis=1, ignore_index= True)"
   ]
  },
  {
   "cell_type": "code",
   "execution_count": 60,
   "metadata": {},
   "outputs": [
    {
     "data": {
      "text/html": [
       "<div>\n",
       "<style scoped>\n",
       "    .dataframe tbody tr th:only-of-type {\n",
       "        vertical-align: middle;\n",
       "    }\n",
       "\n",
       "    .dataframe tbody tr th {\n",
       "        vertical-align: top;\n",
       "    }\n",
       "\n",
       "    .dataframe thead th {\n",
       "        text-align: right;\n",
       "    }\n",
       "</style>\n",
       "<table border=\"1\" class=\"dataframe\">\n",
       "  <thead>\n",
       "    <tr style=\"text-align: right;\">\n",
       "      <th></th>\n",
       "      <th>0</th>\n",
       "      <th>1</th>\n",
       "    </tr>\n",
       "  </thead>\n",
       "  <tbody>\n",
       "    <tr>\n",
       "      <th>0</th>\n",
       "      <td>OrUnpaidPrinc</td>\n",
       "      <td>False</td>\n",
       "    </tr>\n",
       "    <tr>\n",
       "      <th>1</th>\n",
       "      <td>OrLoanTerm</td>\n",
       "      <td>False</td>\n",
       "    </tr>\n",
       "    <tr>\n",
       "      <th>2</th>\n",
       "      <td>OrLTV</td>\n",
       "      <td>False</td>\n",
       "    </tr>\n",
       "    <tr>\n",
       "      <th>3</th>\n",
       "      <td>NumUnits</td>\n",
       "      <td>True</td>\n",
       "    </tr>\n",
       "    <tr>\n",
       "      <th>4</th>\n",
       "      <td>Avg_Foreclosure_Time</td>\n",
       "      <td>False</td>\n",
       "    </tr>\n",
       "    <tr>\n",
       "      <th>5</th>\n",
       "      <td>Recourse</td>\n",
       "      <td>False</td>\n",
       "    </tr>\n",
       "    <tr>\n",
       "      <th>6</th>\n",
       "      <td>Judicial</td>\n",
       "      <td>False</td>\n",
       "    </tr>\n",
       "    <tr>\n",
       "      <th>7</th>\n",
       "      <td>Default</td>\n",
       "      <td>True</td>\n",
       "    </tr>\n",
       "    <tr>\n",
       "      <th>8</th>\n",
       "      <td>Channel_C</td>\n",
       "      <td>True</td>\n",
       "    </tr>\n",
       "    <tr>\n",
       "      <th>9</th>\n",
       "      <td>Channel_R</td>\n",
       "      <td>False</td>\n",
       "    </tr>\n",
       "    <tr>\n",
       "      <th>10</th>\n",
       "      <td>FTHomeBuyer_U</td>\n",
       "      <td>False</td>\n",
       "    </tr>\n",
       "    <tr>\n",
       "      <th>11</th>\n",
       "      <td>FTHomeBuyer_Y</td>\n",
       "      <td>True</td>\n",
       "    </tr>\n",
       "    <tr>\n",
       "      <th>12</th>\n",
       "      <td>LoanPurpose_P</td>\n",
       "      <td>True</td>\n",
       "    </tr>\n",
       "    <tr>\n",
       "      <th>13</th>\n",
       "      <td>LoanPurpose_R</td>\n",
       "      <td>False</td>\n",
       "    </tr>\n",
       "    <tr>\n",
       "      <th>14</th>\n",
       "      <td>LoanPurpose_U</td>\n",
       "      <td>False</td>\n",
       "    </tr>\n",
       "    <tr>\n",
       "      <th>15</th>\n",
       "      <td>PropertyType_CP</td>\n",
       "      <td>True</td>\n",
       "    </tr>\n",
       "    <tr>\n",
       "      <th>16</th>\n",
       "      <td>PropertyType_MH</td>\n",
       "      <td>True</td>\n",
       "    </tr>\n",
       "    <tr>\n",
       "      <th>17</th>\n",
       "      <td>PropertyType_PU</td>\n",
       "      <td>True</td>\n",
       "    </tr>\n",
       "    <tr>\n",
       "      <th>18</th>\n",
       "      <td>PropertyType_SF</td>\n",
       "      <td>True</td>\n",
       "    </tr>\n",
       "    <tr>\n",
       "      <th>19</th>\n",
       "      <td>OccStatus_P</td>\n",
       "      <td>True</td>\n",
       "    </tr>\n",
       "    <tr>\n",
       "      <th>20</th>\n",
       "      <td>OccStatus_S</td>\n",
       "      <td>False</td>\n",
       "    </tr>\n",
       "    <tr>\n",
       "      <th>21</th>\n",
       "      <td>RelMortInd_Y</td>\n",
       "      <td>False</td>\n",
       "    </tr>\n",
       "    <tr>\n",
       "      <th>22</th>\n",
       "      <td>OrInterestRate</td>\n",
       "      <td>False</td>\n",
       "    </tr>\n",
       "    <tr>\n",
       "      <th>23</th>\n",
       "      <td>OrCLTV</td>\n",
       "      <td>False</td>\n",
       "    </tr>\n",
       "    <tr>\n",
       "      <th>24</th>\n",
       "      <td>NumBorrow</td>\n",
       "      <td>False</td>\n",
       "    </tr>\n",
       "    <tr>\n",
       "      <th>25</th>\n",
       "      <td>DTIRat</td>\n",
       "      <td>False</td>\n",
       "    </tr>\n",
       "    <tr>\n",
       "      <th>26</th>\n",
       "      <td>CreditScore</td>\n",
       "      <td>NaN</td>\n",
       "    </tr>\n",
       "  </tbody>\n",
       "</table>\n",
       "</div>"
      ],
      "text/plain": [
       "                       0      1\n",
       "0          OrUnpaidPrinc  False\n",
       "1             OrLoanTerm  False\n",
       "2                  OrLTV  False\n",
       "3               NumUnits   True\n",
       "4   Avg_Foreclosure_Time  False\n",
       "5               Recourse  False\n",
       "6               Judicial  False\n",
       "7                Default   True\n",
       "8              Channel_C   True\n",
       "9              Channel_R  False\n",
       "10         FTHomeBuyer_U  False\n",
       "11         FTHomeBuyer_Y   True\n",
       "12         LoanPurpose_P   True\n",
       "13         LoanPurpose_R  False\n",
       "14         LoanPurpose_U  False\n",
       "15       PropertyType_CP   True\n",
       "16       PropertyType_MH   True\n",
       "17       PropertyType_PU   True\n",
       "18       PropertyType_SF   True\n",
       "19           OccStatus_P   True\n",
       "20           OccStatus_S  False\n",
       "21          RelMortInd_Y  False\n",
       "22        OrInterestRate  False\n",
       "23                OrCLTV  False\n",
       "24             NumBorrow  False\n",
       "25                DTIRat  False\n",
       "26           CreditScore    NaN"
      ]
     },
     "execution_count": 60,
     "metadata": {},
     "output_type": "execute_result"
    }
   ],
   "source": [
    "to_be_used"
   ]
  },
  {
   "cell_type": "code",
   "execution_count": 61,
   "metadata": {},
   "outputs": [],
   "source": [
    "tbu = to_be_used[to_be_used[1]==True][0].tolist()"
   ]
  },
  {
   "cell_type": "code",
   "execution_count": 62,
   "metadata": {},
   "outputs": [
    {
     "data": {
      "text/plain": [
       "['NumUnits',\n",
       " 'Default',\n",
       " 'Channel_C',\n",
       " 'FTHomeBuyer_Y',\n",
       " 'LoanPurpose_P',\n",
       " 'PropertyType_CP',\n",
       " 'PropertyType_MH',\n",
       " 'PropertyType_PU',\n",
       " 'PropertyType_SF',\n",
       " 'OccStatus_P']"
      ]
     },
     "execution_count": 62,
     "metadata": {},
     "output_type": "execute_result"
    }
   ],
   "source": [
    "tbu"
   ]
  },
  {
   "cell_type": "code",
   "execution_count": 63,
   "metadata": {},
   "outputs": [
    {
     "data": {
      "text/plain": [
       "['NumUnits',\n",
       " 'Channel_C',\n",
       " 'FTHomeBuyer_Y',\n",
       " 'LoanPurpose_P',\n",
       " 'PropertyType_CP',\n",
       " 'PropertyType_MH',\n",
       " 'PropertyType_PU',\n",
       " 'PropertyType_SF',\n",
       " 'OccStatus_P']"
      ]
     },
     "execution_count": 63,
     "metadata": {},
     "output_type": "execute_result"
    }
   ],
   "source": [
    "tbu.remove('Default')\n",
    "tbu"
   ]
  },
  {
   "cell_type": "code",
   "execution_count": 64,
   "metadata": {},
   "outputs": [
    {
     "name": "stdout",
     "output_type": "stream",
     "text": [
      "[13 11  8  1 12  6  5  1  1 16  3  1  1 17 14  1  1  1  1  1 15  2  7  4\n",
      " 10  9]\n"
     ]
    }
   ],
   "source": [
    "print(rfe.ranking_)"
   ]
  },
  {
   "cell_type": "code",
   "execution_count": 65,
   "metadata": {},
   "outputs": [],
   "source": [
    "X = os_X[tbu]"
   ]
  },
  {
   "cell_type": "code",
   "execution_count": 66,
   "metadata": {},
   "outputs": [],
   "source": [
    "y= os_y['Default']"
   ]
  },
  {
   "cell_type": "code",
   "execution_count": 67,
   "metadata": {},
   "outputs": [
    {
     "name": "stdout",
     "output_type": "stream",
     "text": [
      "Optimization terminated successfully.\n",
      "         Current function value: 0.602947\n",
      "         Iterations 10\n",
      "                          Results: Logit\n",
      "===================================================================\n",
      "Model:              Logit            Pseudo R-squared: 0.130       \n",
      "Dependent Variable: Default          AIC:              4993922.1729\n",
      "Date:               2020-08-26 22:03 BIC:              4994041.3015\n",
      "No. Observations:   4141248          Log-Likelihood:   -2.4970e+06 \n",
      "Df Model:           8                LL-Null:          -2.8705e+06 \n",
      "Df Residuals:       4141239          LLR p-value:      0.0000      \n",
      "Converged:          1.0000           Scale:            1.0000      \n",
      "No. Iterations:     10.0000                                        \n",
      "-------------------------------------------------------------------\n",
      "                   Coef.  Std.Err.     z     P>|z|   [0.025  0.975]\n",
      "-------------------------------------------------------------------\n",
      "NumUnits           1.6557   0.0036  455.8635 0.0000  1.6486  1.6629\n",
      "Channel_C         -1.4478   0.0032 -454.9814 0.0000 -1.4540 -1.4415\n",
      "FTHomeBuyer_Y     -0.7988   0.0069 -115.4527 0.0000 -0.8124 -0.7853\n",
      "LoanPurpose_P     -0.7736   0.0027 -282.2154 0.0000 -0.7790 -0.7683\n",
      "PropertyType_CP   -6.6698   0.2803  -23.7950 0.0000 -7.2192 -6.1204\n",
      "PropertyType_MH   -0.9388   0.0135  -69.6304 0.0000 -0.9652 -0.9124\n",
      "PropertyType_PU   -3.0789   0.0101 -304.8387 0.0000 -3.0987 -3.0591\n",
      "PropertyType_SF   -0.8348   0.0030 -274.1798 0.0000 -0.8408 -0.8288\n",
      "OccStatus_P       -0.6260   0.0029 -217.6938 0.0000 -0.6316 -0.6203\n",
      "===================================================================\n",
      "\n"
     ]
    }
   ],
   "source": [
    "import statsmodels.api as sm\n",
    "logit_model=sm.Logit(y,X)\n",
    "result=logit_model.fit()\n",
    "print(result.summary2())"
   ]
  },
  {
   "cell_type": "code",
   "execution_count": null,
   "metadata": {},
   "outputs": [],
   "source": []
  },
  {
   "cell_type": "code",
   "execution_count": null,
   "metadata": {},
   "outputs": [],
   "source": []
  },
  {
   "cell_type": "code",
   "execution_count": null,
   "metadata": {},
   "outputs": [],
   "source": []
  }
 ],
 "metadata": {
  "kernelspec": {
   "display_name": "Python 3",
   "language": "python",
   "name": "python3"
  },
  "language_info": {
   "codemirror_mode": {
    "name": "ipython",
    "version": 3
   },
   "file_extension": ".py",
   "mimetype": "text/x-python",
   "name": "python",
   "nbconvert_exporter": "python",
   "pygments_lexer": "ipython3",
   "version": "3.8.3"
  }
 },
 "nbformat": 4,
 "nbformat_minor": 4
}
